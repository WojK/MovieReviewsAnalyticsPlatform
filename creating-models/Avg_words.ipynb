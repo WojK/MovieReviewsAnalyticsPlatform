{
 "cells": [
  {
   "cell_type": "code",
   "execution_count": 2,
   "id": "9df882ab",
   "metadata": {},
   "outputs": [],
   "source": [
    "import pandas as pd \n"
   ]
  },
  {
   "cell_type": "code",
   "execution_count": 27,
   "id": "7054b890",
   "metadata": {},
   "outputs": [],
   "source": [
    "reviews = pd.read_csv('../IMDB_dataset/IMDB dataset.csv')['review'][0:500]"
   ]
  },
  {
   "cell_type": "code",
   "execution_count": 28,
   "id": "e757c1e3",
   "metadata": {},
   "outputs": [],
   "source": [
    "def count_words_avg(texts):\n",
    "    words_counts = []\n",
    "    for text in texts:\n",
    "        words = text.split(' ')\n",
    "        words_counts.append(len(words))\n",
    "    \n",
    "    sum_counts = 0\n",
    "    for count in words_counts:\n",
    "        sum_counts += count\n",
    "        \n",
    "    return int(sum_counts/len(words_counts))"
   ]
  },
  {
   "cell_type": "code",
   "execution_count": 29,
   "id": "28f18fc2",
   "metadata": {},
   "outputs": [
    {
     "data": {
      "text/plain": [
       "240"
      ]
     },
     "execution_count": 29,
     "metadata": {},
     "output_type": "execute_result"
    }
   ],
   "source": [
    "count_words_avg(reviews)"
   ]
  },
  {
   "cell_type": "code",
   "execution_count": null,
   "id": "48e520a4",
   "metadata": {},
   "outputs": [],
   "source": []
  }
 ],
 "metadata": {
  "kernelspec": {
   "display_name": "Python 3 (ipykernel)",
   "language": "python",
   "name": "python3"
  },
  "language_info": {
   "codemirror_mode": {
    "name": "ipython",
    "version": 3
   },
   "file_extension": ".py",
   "mimetype": "text/x-python",
   "name": "python",
   "nbconvert_exporter": "python",
   "pygments_lexer": "ipython3",
   "version": "3.9.16"
  }
 },
 "nbformat": 4,
 "nbformat_minor": 5
}
