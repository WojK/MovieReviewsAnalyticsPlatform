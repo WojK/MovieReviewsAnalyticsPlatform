{
 "cells": [
  {
   "cell_type": "code",
   "execution_count": 1,
   "id": "4ca07667",
   "metadata": {},
   "outputs": [],
   "source": [
    "import pandas as pd\n",
    "from nltk.corpus import stopwords\n",
    "import numpy as np\n",
    "from string import punctuation\n",
    "import re\n",
    "import tensorflow as tf\n",
    "from sklearn.model_selection import train_test_split\n",
    "from tensorflow.keras.preprocessing.text import Tokenizer\n",
    "from tensorflow.keras.preprocessing.sequence import pad_sequences\n",
    "from tensorflow.keras import Sequential\n",
    "from tensorflow.keras.layers import Embedding, Dense, Dropout, LSTM, Flatten\n",
    "import seaborn as sns\n",
    "import matplotlib.pyplot as plt\n",
    "from bs4 import BeautifulSoup\n",
    "from nltk.tokenize import word_tokenize\n",
    "from nltk.stem import PorterStemmer"
   ]
  },
  {
   "cell_type": "code",
   "execution_count": 2,
   "id": "c05c0afb",
   "metadata": {},
   "outputs": [],
   "source": [
    "df = pd.read_csv('../IMDB_dataset/IMDB dataset.csv')"
   ]
  },
  {
   "cell_type": "code",
   "execution_count": 3,
   "id": "a57ee840",
   "metadata": {},
   "outputs": [],
   "source": [
    "df.sentiment.replace(\"positive\", 1, inplace = True)\n",
    "df.sentiment.replace(\"negative\", 0, inplace = True)"
   ]
  },
  {
   "cell_type": "code",
   "execution_count": 4,
   "id": "3be85118",
   "metadata": {},
   "outputs": [],
   "source": [
    "train, test = train_test_split(df, test_size=0.2, random_state=42)\n",
    "\n",
    "x_train, y_train = train['review'], train['sentiment']\n",
    "x_test, y_test = test['review'], test['sentiment']\n",
    "x_train, x_val, y_train, y_val = train_test_split(x_train, y_train,\n",
    "                                             test_size=0.2, random_state=10)"
   ]
  },
  {
   "cell_type": "code",
   "execution_count": 5,
   "id": "a78ecab2",
   "metadata": {},
   "outputs": [],
   "source": [
    "tokenizer = Tokenizer(oov_token=\"OOV\")"
   ]
  },
  {
   "cell_type": "code",
   "execution_count": 6,
   "id": "7cb9d29f",
   "metadata": {},
   "outputs": [],
   "source": [
    "tokenizer.fit_on_texts(x_train)\n",
    "word_index = tokenizer.word_index"
   ]
  },
  {
   "cell_type": "code",
   "execution_count": 7,
   "id": "4947b3b4",
   "metadata": {},
   "outputs": [],
   "source": [
    "sequences = tokenizer.texts_to_sequences(x_train)"
   ]
  },
  {
   "cell_type": "code",
   "execution_count": 8,
   "id": "fbe19ab4",
   "metadata": {},
   "outputs": [],
   "source": [
    "max_len = 595\n",
    "trunc_type = 'post'\n",
    "oov_tok = 'OOV'\n",
    "padding_type = 'post'\n",
    "vocab_size = len(word_index) + 1"
   ]
  },
  {
   "cell_type": "code",
   "execution_count": 9,
   "id": "ab1fba14",
   "metadata": {},
   "outputs": [],
   "source": [
    "train_padded = pad_sequences(sequences, maxlen=max_len, padding=padding_type, truncating=trunc_type)\n",
    "\n",
    "test_sentences = tokenizer.texts_to_sequences(x_test)\n",
    "test_padded = pad_sequences(test_sentences, maxlen=max_len, padding=padding_type, truncating=trunc_type)\n",
    "\n",
    "val_sentences = tokenizer.texts_to_sequences(x_val)\n",
    "val_padded = pad_sequences(val_sentences, maxlen=max_len, padding=padding_type, truncating=trunc_type)"
   ]
  },
  {
   "cell_type": "code",
   "execution_count": 10,
   "id": "c2ae7dd3",
   "metadata": {},
   "outputs": [
    {
     "name": "stdout",
     "output_type": "stream",
     "text": [
      "Model: \"sequential\"\n",
      "_________________________________________________________________\n",
      " Layer (type)                Output Shape              Param #   \n",
      "=================================================================\n",
      " embedding (Embedding)       (None, 595, 400)          40637200  \n",
      "                                                                 \n",
      " dropout (Dropout)           (None, 595, 400)          0         \n",
      "                                                                 \n",
      " lstm (LSTM)                 (None, 595, 64)           119040    \n",
      "                                                                 \n",
      " flatten (Flatten)           (None, 38080)             0         \n",
      "                                                                 \n",
      " dense (Dense)               (None, 1)                 38081     \n",
      "                                                                 \n",
      "=================================================================\n",
      "Total params: 40,794,321\n",
      "Trainable params: 40,794,321\n",
      "Non-trainable params: 0\n",
      "_________________________________________________________________\n"
     ]
    }
   ],
   "source": [
    "embedding_dim = 400\n",
    "\n",
    "model = Sequential()\n",
    "model.add(Embedding(vocab_size, embedding_dim, input_length=max_len))\n",
    "model.add(Dropout(0.2))\n",
    "model.add(LSTM(64, return_sequences=True))\n",
    "model.add(Flatten())\n",
    "model.add(Dense(1, activation='sigmoid'))\n",
    "\n",
    "model.compile(loss='binary_crossentropy', optimizer='adam', metrics=['accuracy'])\n",
    "model.summary()"
   ]
  },
  {
   "cell_type": "code",
   "execution_count": 13,
   "id": "2e8be61b",
   "metadata": {},
   "outputs": [],
   "source": [
    "batch_size = 4\n",
    "num_epochs = 1"
   ]
  },
  {
   "cell_type": "code",
   "execution_count": 14,
   "id": "4a05c04a",
   "metadata": {},
   "outputs": [
    {
     "name": "stdout",
     "output_type": "stream",
     "text": [
      "8000/8000 [==============================] - 698s 87ms/step - loss: 0.3261 - accuracy: 0.8642 - val_loss: 0.2616 - val_accuracy: 0.8951\n"
     ]
    }
   ],
   "source": [
    "history = model.fit(train_padded, y_train, epochs=num_epochs, batch_size=batch_size, validation_data=(val_padded, y_val))"
   ]
  },
  {
   "cell_type": "code",
   "execution_count": 15,
   "id": "3366e9e5",
   "metadata": {},
   "outputs": [
    {
     "name": "stdout",
     "output_type": "stream",
     "text": [
      "313/313 [==============================] - 6s 16ms/step - loss: 0.2522 - accuracy: 0.8963\n"
     ]
    },
    {
     "data": {
      "text/plain": [
       "[0.2522154450416565, 0.8963000178337097]"
      ]
     },
     "execution_count": 15,
     "metadata": {},
     "output_type": "execute_result"
    }
   ],
   "source": [
    "model.evaluate(test_padded, y_test)"
   ]
  },
  {
   "cell_type": "code",
   "execution_count": 16,
   "id": "0152e549",
   "metadata": {},
   "outputs": [],
   "source": [
    "model.save('LSTM_89.51.h5')"
   ]
  },
  {
   "cell_type": "code",
   "execution_count": 18,
   "id": "bd0f310a",
   "metadata": {},
   "outputs": [],
   "source": [
    "import pickle\n",
    "\n",
    "with open('lstm_tokenizer.pickle', 'wb') as handle:\n",
    "    pickle.dump(tokenizer, handle, protocol=pickle.HIGHEST_PROTOCOL)"
   ]
  },
  {
   "cell_type": "markdown",
   "id": "ea1c033b",
   "metadata": {},
   "source": [
    "### Load Model"
   ]
  },
  {
   "cell_type": "code",
   "execution_count": 15,
   "id": "f258c071",
   "metadata": {},
   "outputs": [],
   "source": [
    "review = pd.read_csv('../IMDB_dataset/IMDB dataset.csv')['review'][0]"
   ]
  },
  {
   "cell_type": "code",
   "execution_count": 16,
   "id": "f0a3d16c",
   "metadata": {},
   "outputs": [
    {
     "data": {
      "text/plain": [
       "\"One of the other reviewers has mentioned that after watching just 1 Oz episode you'll be hooked. They are right, as this is exactly what happened with me.<br /><br />The first thing that struck me about Oz was its brutality and unflinching scenes of violence, which set in right from the word GO. Trust me, this is not a show for the faint hearted or timid. This show pulls no punches with regards to drugs, sex or violence. Its is hardcore, in the classic use of the word.<br /><br />It is called OZ as that is the nickname given to the Oswald Maximum Security State Penitentary. It focuses mainly on Emerald City, an experimental section of the prison where all the cells have glass fronts and face inwards, so privacy is not high on the agenda. Em City is home to many..Aryans, Muslims, gangstas, Latinos, Christians, Italians, Irish and more....so scuffles, death stares, dodgy dealings and shady agreements are never far away.<br /><br />I would say the main appeal of the show is due to the fact that it goes where other shows wouldn't dare. Forget pretty pictures painted for mainstream audiences, forget charm, forget romance...OZ doesn't mess around. The first episode I ever saw struck me as so nasty it was surreal, I couldn't say I was ready for it, but as I watched more, I developed a taste for Oz, and got accustomed to the high levels of graphic violence. Not just violence, but injustice (crooked guards who'll be sold out for a nickel, inmates who'll kill on order and get away with it, well mannered, middle class inmates being turned into prison bitches due to their lack of street skills or prison experience) Watching Oz, you may become comfortable with what is uncomfortable viewing....thats if you can get in touch with your darker side.\""
      ]
     },
     "execution_count": 16,
     "metadata": {},
     "output_type": "execute_result"
    }
   ],
   "source": [
    "review"
   ]
  },
  {
   "cell_type": "code",
   "execution_count": 17,
   "id": "984d0061",
   "metadata": {},
   "outputs": [],
   "source": [
    "import pickle\n",
    "\n",
    "tokenizer_filename = './Models/LSTM/lstm_tokenizer.pickle'\n",
    "tokenizer = pickle.load(open(tokenizer_filename, 'rb'))\n",
    "\n",
    "model_filename = './Models/LSTM/LSTM_89.51.h5'\n",
    "model = tf.keras.models.load_model(model_filename)"
   ]
  },
  {
   "cell_type": "code",
   "execution_count": 18,
   "id": "c1375828",
   "metadata": {},
   "outputs": [],
   "source": [
    "max_len = 595\n",
    "trunc_type = 'post'\n",
    "padding_type = 'post'"
   ]
  },
  {
   "cell_type": "code",
   "execution_count": 19,
   "id": "b585957b",
   "metadata": {},
   "outputs": [],
   "source": [
    "import numpy as np"
   ]
  },
  {
   "cell_type": "code",
   "execution_count": 20,
   "id": "0fd9f972",
   "metadata": {},
   "outputs": [],
   "source": [
    "review = tokenizer.texts_to_sequences([review])"
   ]
  },
  {
   "cell_type": "code",
   "execution_count": 21,
   "id": "4e7ed102",
   "metadata": {},
   "outputs": [],
   "source": [
    "review = tf.keras.utils.pad_sequences(review, maxlen=max_len, padding=padding_type, truncating=trunc_type)\n",
    "\n",
    "review = np.reshape(review, (1, max_len))"
   ]
  },
  {
   "cell_type": "code",
   "execution_count": 22,
   "id": "0d3bf6d0",
   "metadata": {},
   "outputs": [
    {
     "name": "stdout",
     "output_type": "stream",
     "text": [
      "1/1 [==============================] - 4s 4s/step\n"
     ]
    }
   ],
   "source": [
    "prediction = model.predict(review)"
   ]
  },
  {
   "cell_type": "code",
   "execution_count": 26,
   "id": "29ad0c70",
   "metadata": {},
   "outputs": [],
   "source": [
    "prob_pos = prediction[0][0]"
   ]
  },
  {
   "cell_type": "code",
   "execution_count": 27,
   "id": "c2c741c3",
   "metadata": {},
   "outputs": [],
   "source": [
    "prob_neg = 1 - prediction[0][0]"
   ]
  },
  {
   "cell_type": "code",
   "execution_count": 28,
   "id": "1bcd2654",
   "metadata": {},
   "outputs": [
    {
     "data": {
      "text/plain": [
       "0.9794652"
      ]
     },
     "execution_count": 28,
     "metadata": {},
     "output_type": "execute_result"
    }
   ],
   "source": [
    "prob_pos"
   ]
  },
  {
   "cell_type": "code",
   "execution_count": 29,
   "id": "58445b09",
   "metadata": {},
   "outputs": [
    {
     "data": {
      "text/plain": [
       "0.020534813404083252"
      ]
     },
     "execution_count": 29,
     "metadata": {},
     "output_type": "execute_result"
    }
   ],
   "source": [
    "prob_neg"
   ]
  },
  {
   "cell_type": "code",
   "execution_count": 30,
   "id": "ebbf5363",
   "metadata": {},
   "outputs": [],
   "source": [
    "reviews = pd.read_csv('../IMDB_dataset/IMDB dataset.csv')['review'][0:5]"
   ]
  },
  {
   "cell_type": "code",
   "execution_count": 31,
   "id": "e1da7d0a",
   "metadata": {},
   "outputs": [
    {
     "name": "stdout",
     "output_type": "stream",
     "text": [
      "1/1 [==============================] - 3s 3s/step\n"
     ]
    }
   ],
   "source": [
    "sequences = tokenizer.texts_to_sequences(reviews)\n",
    "sequences = tf.keras.utils.pad_sequences(sequences, maxlen=max_len, padding=padding_type, truncating=trunc_type)\n",
    "prediction = model.predict(sequences)"
   ]
  },
  {
   "cell_type": "code",
   "execution_count": 34,
   "id": "00f4b392",
   "metadata": {},
   "outputs": [
    {
     "data": {
      "text/plain": [
       "array([[0.9794652 ],\n",
       "       [0.9904322 ],\n",
       "       [0.94077224],\n",
       "       [0.27642617],\n",
       "       [0.90864295]], dtype=float32)"
      ]
     },
     "execution_count": 34,
     "metadata": {},
     "output_type": "execute_result"
    }
   ],
   "source": [
    "prediction"
   ]
  },
  {
   "cell_type": "code",
   "execution_count": 37,
   "id": "1c7905fb",
   "metadata": {},
   "outputs": [],
   "source": [
    "scores = [score[0] for score in prediction]"
   ]
  },
  {
   "cell_type": "code",
   "execution_count": 38,
   "id": "6678d8cf",
   "metadata": {},
   "outputs": [
    {
     "data": {
      "text/plain": [
       "[0.9794652, 0.9904322, 0.94077224, 0.27642617, 0.90864295]"
      ]
     },
     "execution_count": 38,
     "metadata": {},
     "output_type": "execute_result"
    }
   ],
   "source": [
    "scores"
   ]
  },
  {
   "cell_type": "code",
   "execution_count": 39,
   "id": "8583511f",
   "metadata": {},
   "outputs": [
    {
     "data": {
      "text/plain": [
       "[{'prob_pos': '0.98', 'prob_neg': '0.02'},\n",
       " {'prob_pos': '0.99', 'prob_neg': '0.01'},\n",
       " {'prob_pos': '0.94', 'prob_neg': '0.06'},\n",
       " {'prob_pos': '0.28', 'prob_neg': '0.72'},\n",
       " {'prob_pos': '0.91', 'prob_neg': '0.09'}]"
      ]
     },
     "execution_count": 39,
     "metadata": {},
     "output_type": "execute_result"
    }
   ],
   "source": [
    "output = []\n",
    "for score in scores:\n",
    "    output.append({\"prob_pos\": \"{:.2f}\".format(float(score)), \"prob_neg\": \"{:.2f}\".format(float(1 - score)) })\n",
    "output\n",
    "                   "
   ]
  },
  {
   "cell_type": "code",
   "execution_count": null,
   "id": "9cd8f251",
   "metadata": {},
   "outputs": [],
   "source": []
  }
 ],
 "metadata": {
  "kernelspec": {
   "display_name": "Python 3 (ipykernel)",
   "language": "python",
   "name": "python3"
  },
  "language_info": {
   "codemirror_mode": {
    "name": "ipython",
    "version": 3
   },
   "file_extension": ".py",
   "mimetype": "text/x-python",
   "name": "python",
   "nbconvert_exporter": "python",
   "pygments_lexer": "ipython3",
   "version": "3.9.16"
  }
 },
 "nbformat": 4,
 "nbformat_minor": 5
}
