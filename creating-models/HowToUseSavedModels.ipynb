{
 "cells": [
  {
   "cell_type": "code",
   "execution_count": 1,
   "id": "c0b0bfc2",
   "metadata": {},
   "outputs": [],
   "source": [
    "import pickle"
   ]
  },
  {
   "cell_type": "code",
   "execution_count": 2,
   "id": "74cdb9b8",
   "metadata": {},
   "outputs": [
    {
     "name": "stderr",
     "output_type": "stream",
     "text": [
      "C:\\Users\\wojte\\miniconda3\\envs\\tf2\\lib\\site-packages\\sklearn\\base.py:318: UserWarning: Trying to unpickle estimator MultinomialNB from version 1.3.1 when using version 1.2.2. This might lead to breaking code or invalid results. Use at your own risk. For more info please refer to:\n",
      "https://scikit-learn.org/stable/model_persistence.html#security-maintainability-limitations\n",
      "  warnings.warn(\n",
      "C:\\Users\\wojte\\miniconda3\\envs\\tf2\\lib\\site-packages\\sklearn\\base.py:318: UserWarning: Trying to unpickle estimator TfidfTransformer from version 1.3.1 when using version 1.2.2. This might lead to breaking code or invalid results. Use at your own risk. For more info please refer to:\n",
      "https://scikit-learn.org/stable/model_persistence.html#security-maintainability-limitations\n",
      "  warnings.warn(\n",
      "C:\\Users\\wojte\\miniconda3\\envs\\tf2\\lib\\site-packages\\sklearn\\base.py:318: UserWarning: Trying to unpickle estimator TfidfVectorizer from version 1.3.1 when using version 1.2.2. This might lead to breaking code or invalid results. Use at your own risk. For more info please refer to:\n",
      "https://scikit-learn.org/stable/model_persistence.html#security-maintainability-limitations\n",
      "  warnings.warn(\n"
     ]
    }
   ],
   "source": [
    "model_filename = './Models/NaiveBayes/naive_bayes_tfidf.sav'\n",
    "model_vectorizer_filename = './Models/NaiveBayes/naive_bayes_tfidf_vectorizer.sav'\n",
    "\n",
    "model = pickle.load(open(model_filename, 'rb'))\n",
    "vectorizer = pickle.load(open(model_vectorizer_filename, 'rb'))"
   ]
  },
  {
   "cell_type": "code",
   "execution_count": 3,
   "id": "64b7cb10",
   "metadata": {},
   "outputs": [],
   "source": [
    "import pandas as pd"
   ]
  },
  {
   "cell_type": "code",
   "execution_count": 4,
   "id": "bc0352e3",
   "metadata": {},
   "outputs": [],
   "source": [
    "reviews_df = pd.read_csv('../IMDB_dataset/IMDB dataset.csv')[0:20][\"review\"]"
   ]
  },
  {
   "cell_type": "code",
   "execution_count": 5,
   "id": "e1d5dd06",
   "metadata": {},
   "outputs": [
    {
     "data": {
      "text/plain": [
       "0     One of the other reviewers has mentioned that ...\n",
       "1     A wonderful little production. <br /><br />The...\n",
       "2     I thought this was a wonderful way to spend ti...\n",
       "3     Basically there's a family where a little boy ...\n",
       "4     Petter Mattei's \"Love in the Time of Money\" is...\n",
       "5     Probably my all-time favorite movie, a story o...\n",
       "6     I sure would like to see a resurrection of a u...\n",
       "7     This show was an amazing, fresh & innovative i...\n",
       "8     Encouraged by the positive comments about this...\n",
       "9     If you like original gut wrenching laughter yo...\n",
       "10    Phil the Alien is one of those quirky films wh...\n",
       "11    I saw this movie when I was about 12 when it c...\n",
       "12    So im not a big fan of Boll's work but then ag...\n",
       "13    The cast played Shakespeare.<br /><br />Shakes...\n",
       "14    This a fantastic movie of three prisoners who ...\n",
       "15    Kind of drawn in by the erotic scenes, only to...\n",
       "16    Some films just simply should not be remade. T...\n",
       "17    This movie made it into one of my top 10 most ...\n",
       "18    I remember this film,it was the first film i h...\n",
       "19    An awful film! It must have been up against so...\n",
       "Name: review, dtype: object"
      ]
     },
     "execution_count": 5,
     "metadata": {},
     "output_type": "execute_result"
    }
   ],
   "source": [
    "reviews_df"
   ]
  },
  {
   "cell_type": "code",
   "execution_count": 6,
   "id": "10322e37",
   "metadata": {},
   "outputs": [],
   "source": [
    "from nltk.tokenize import word_tokenize\n",
    "\n",
    "def process_remove_punctuation(text):\n",
    "    output = []\n",
    "    for word in word_tokenize(text.lower()):\n",
    "        if word.isalpha():\n",
    "            output.append(word)\n",
    "    return \" \".join(output)"
   ]
  },
  {
   "cell_type": "code",
   "execution_count": 7,
   "id": "17607229",
   "metadata": {},
   "outputs": [],
   "source": [
    "reviews_df = reviews_df.apply(process_remove_punctuation)"
   ]
  },
  {
   "cell_type": "code",
   "execution_count": 8,
   "id": "aa6176e9",
   "metadata": {},
   "outputs": [
    {
     "data": {
      "text/plain": [
       "0     one of the other reviewers has mentioned that ...\n",
       "1     a wonderful little production br br the filmin...\n",
       "2     i thought this was a wonderful way to spend ti...\n",
       "3     basically there a family where a little boy ja...\n",
       "4     petter mattei love in the time of money is a v...\n",
       "5     probably my favorite movie a story of selfless...\n",
       "6     i sure would like to see a resurrection of a u...\n",
       "7     this show was an amazing fresh innovative idea...\n",
       "8     encouraged by the positive comments about this...\n",
       "9     if you like original gut wrenching laughter yo...\n",
       "10    phil the alien is one of those quirky films wh...\n",
       "11    i saw this movie when i was about when it came...\n",
       "12    so im not a big fan of boll work but then agai...\n",
       "13    the cast played br br shakespeare br br i appr...\n",
       "14    this a fantastic movie of three prisoners who ...\n",
       "15    kind of drawn in by the erotic scenes only to ...\n",
       "16    some films just simply should not be remade th...\n",
       "17    this movie made it into one of my top most awf...\n",
       "18    i remember this film it was the first film i h...\n",
       "19    an awful film it must have been up against som...\n",
       "Name: review, dtype: object"
      ]
     },
     "execution_count": 8,
     "metadata": {},
     "output_type": "execute_result"
    }
   ],
   "source": [
    "reviews_df"
   ]
  },
  {
   "cell_type": "code",
   "execution_count": 9,
   "id": "404097ac",
   "metadata": {},
   "outputs": [],
   "source": [
    "vectorized = vectorizer.transform(reviews_df)"
   ]
  },
  {
   "cell_type": "code",
   "execution_count": 10,
   "id": "ec076204",
   "metadata": {},
   "outputs": [],
   "source": [
    "prediction = model.predict_proba(vectorized)"
   ]
  },
  {
   "cell_type": "code",
   "execution_count": 15,
   "id": "ba432872",
   "metadata": {},
   "outputs": [
    {
     "name": "stdout",
     "output_type": "stream",
     "text": [
      "[[0.29182832 0.70817168]\n",
      " [0.15800475 0.84199525]\n",
      " [0.38878807 0.61121193]\n",
      " [0.69778851 0.30221149]\n",
      " [0.20635228 0.79364772]\n",
      " [0.12770314 0.87229686]\n",
      " [0.47423359 0.52576641]\n",
      " [0.78174085 0.21825915]\n",
      " [0.86476256 0.13523744]\n",
      " [0.36117877 0.63882123]\n",
      " [0.6956573  0.3043427 ]\n",
      " [0.71508773 0.28491227]\n",
      " [0.9185565  0.0814435 ]\n",
      " [0.58868204 0.41131796]\n",
      " [0.24522159 0.75477841]\n",
      " [0.89535298 0.10464702]\n",
      " [0.50473559 0.49526441]\n",
      " [0.87729168 0.12270832]\n",
      " [0.35465925 0.64534075]\n",
      " [0.55390025 0.44609975]]\n"
     ]
    }
   ],
   "source": [
    "print(prediction)"
   ]
  },
  {
   "cell_type": "code",
   "execution_count": null,
   "id": "27e28469",
   "metadata": {},
   "outputs": [],
   "source": []
  }
 ],
 "metadata": {
  "kernelspec": {
   "display_name": "Python 3 (ipykernel)",
   "language": "python",
   "name": "python3"
  },
  "language_info": {
   "codemirror_mode": {
    "name": "ipython",
    "version": 3
   },
   "file_extension": ".py",
   "mimetype": "text/x-python",
   "name": "python",
   "nbconvert_exporter": "python",
   "pygments_lexer": "ipython3",
   "version": "3.9.16"
  }
 },
 "nbformat": 4,
 "nbformat_minor": 5
}
