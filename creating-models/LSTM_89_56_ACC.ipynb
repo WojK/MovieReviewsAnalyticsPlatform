{
 "cells": [
  {
   "cell_type": "code",
   "execution_count": 3,
   "id": "57ba7926",
   "metadata": {},
   "outputs": [],
   "source": [
    "import pandas as pd\n",
    "from nltk.corpus import stopwords\n",
    "import numpy as np\n",
    "from string import punctuation\n",
    "import re\n",
    "import tensorflow as tf\n",
    "from sklearn.model_selection import train_test_split\n",
    "from tensorflow.keras.preprocessing.text import Tokenizer\n",
    "from tensorflow.keras.preprocessing.sequence import pad_sequences\n",
    "from tensorflow.keras import Sequential\n",
    "from tensorflow.keras.layers import Embedding, Dense, Dropout, LSTM, Flatten\n",
    "import seaborn as sns\n",
    "import matplotlib.pyplot as plt\n",
    "from bs4 import BeautifulSoup\n",
    "from nltk.tokenize import word_tokenize\n",
    "from nltk.stem import PorterStemmer"
   ]
  },
  {
   "cell_type": "code",
   "execution_count": 2,
   "id": "54022c8a",
   "metadata": {},
   "outputs": [
    {
     "name": "stdout",
     "output_type": "stream",
     "text": [
      "Num GPUs Available:  1\n"
     ]
    }
   ],
   "source": [
    "print(\"Num GPUs Available: \", len(tf.config.list_physical_devices('GPU')))"
   ]
  },
  {
   "cell_type": "code",
   "execution_count": 3,
   "id": "19a66cd8",
   "metadata": {},
   "outputs": [],
   "source": [
    "df = pd.read_csv('../IMDB_dataset/IMDB dataset.csv')"
   ]
  },
  {
   "cell_type": "code",
   "execution_count": 4,
   "id": "4948bfbf",
   "metadata": {},
   "outputs": [],
   "source": [
    "review_len = pd.Series([len(review.split()) for review in df['review']])"
   ]
  },
  {
   "cell_type": "code",
   "execution_count": 5,
   "id": "74904329",
   "metadata": {},
   "outputs": [
    {
     "data": {
      "text/plain": [
       "<Axes: xlabel='Length of sentence', ylabel='Count'>"
      ]
     },
     "execution_count": 5,
     "metadata": {},
     "output_type": "execute_result"
    },
    {
     "data": {
      "image/png": "[encoded data removed]",
      "text/plain": [
       "<Figure size 600x600 with 1 Axes>"
      ]
     },
     "metadata": {},
     "output_type": "display_data"
    }
   ],
   "source": [
    "plt.figure(figsize = (6,6))\n",
    "plt.xlabel(\"Length of sentence\", fontsize=12)  \n",
    "plt.ylabel(\"Count\", fontsize=12)\n",
    "sns.histplot(review_len)"
   ]
  },
  {
   "cell_type": "code",
   "execution_count": 6,
   "id": "6c99c88d",
   "metadata": {},
   "outputs": [
    {
     "data": {
      "text/plain": [
       "50000"
      ]
     },
     "execution_count": 6,
     "metadata": {},
     "output_type": "execute_result"
    }
   ],
   "source": [
    "all_reviews_count = review_len.size\n",
    "all_reviews_count"
   ]
  },
  {
   "cell_type": "markdown",
   "id": "75289c9d",
   "metadata": {},
   "source": [
    "### Determining how many % of sentences have less words than the specified threshold"
   ]
  },
  {
   "cell_type": "code",
   "execution_count": 7,
   "id": "7c5eaaff",
   "metadata": {},
   "outputs": [
    {
     "name": "stdout",
     "output_type": "stream",
     "text": [
      "95.104 %\n"
     ]
    }
   ],
   "source": [
    "has_less_words_than_threshold_count = 0\n",
    "threshold = 595\n",
    "for words_count in review_len:\n",
    "    if words_count < threshold:\n",
    "        has_less_words_than_threshold_count += 1\n",
    "\n",
    "print(has_less_words_than_threshold_count/all_reviews_count *100, \"%\")\n"
   ]
  },
  {
   "cell_type": "code",
   "execution_count": 4,
   "id": "da1a87b0",
   "metadata": {},
   "outputs": [],
   "source": [
    "df.sentiment.replace(\"positive\", 1, inplace = True)\n",
    "df.sentiment.replace(\"negative\", 0, inplace = True)"
   ]
  },
  {
   "cell_type": "code",
   "execution_count": 5,
   "id": "638bbe6f",
   "metadata": {},
   "outputs": [],
   "source": [
    "train, test = train_test_split(df, test_size=0.2, random_state=42)\n",
    "\n",
    "x_train, y_train = train['review'], train['sentiment']\n",
    "x_test, y_test = test['review'], test['sentiment']\n",
    "x_train, x_val, y_train, y_val = train_test_split(x_train, y_train,\n",
    "                                             test_size=0.2, random_state=10)"
   ]
  },
  {
   "cell_type": "code",
   "execution_count": 6,
   "id": "18ccc13c",
   "metadata": {},
   "outputs": [],
   "source": [
    "tokenizer = Tokenizer(oov_token=\"OOV\")"
   ]
  },
  {
   "cell_type": "code",
   "execution_count": 7,
   "id": "dd654399",
   "metadata": {},
   "outputs": [],
   "source": [
    "tokenizer.fit_on_texts(x_train)\n",
    "word_index = tokenizer.word_index"
   ]
  },
  {
   "cell_type": "code",
   "execution_count": 8,
   "id": "d9f7c05b",
   "metadata": {},
   "outputs": [
    {
     "name": "stdout",
     "output_type": "stream",
     "text": [
      "101592 unique tokens.\n"
     ]
    }
   ],
   "source": [
    "print('%s unique tokens.' % len(word_index))"
   ]
  },
  {
   "cell_type": "code",
   "execution_count": 9,
   "id": "d20db3ee",
   "metadata": {},
   "outputs": [],
   "source": [
    "sequences = tokenizer.texts_to_sequences(x_train)"
   ]
  },
  {
   "cell_type": "code",
   "execution_count": 10,
   "id": "29ff87c3",
   "metadata": {},
   "outputs": [],
   "source": [
    "max_len = 595\n",
    "trunc_type = 'post'\n",
    "oov_tok = 'OOV'\n",
    "padding_type = 'post'\n",
    "vocab_size = len(word_index) + 1"
   ]
  },
  {
   "cell_type": "code",
   "execution_count": 11,
   "id": "4f54456a",
   "metadata": {},
   "outputs": [],
   "source": [
    "train_padded = pad_sequences(sequences, maxlen=max_len, padding=padding_type, truncating=trunc_type)\n",
    "\n",
    "test_sentences = tokenizer.texts_to_sequences(x_test)\n",
    "test_padded = pad_sequences(test_sentences, maxlen=max_len, padding=padding_type, truncating=trunc_type)\n",
    "\n",
    "val_sentences = tokenizer.texts_to_sequences(x_val)\n",
    "val_padded = pad_sequences(val_sentences, maxlen=max_len, padding=padding_type, truncating=trunc_type)"
   ]
  },
  {
   "cell_type": "markdown",
   "id": "052c678c",
   "metadata": {},
   "source": [
    "### Changing embedding dim"
   ]
  },
  {
   "cell_type": "code",
   "execution_count": 17,
   "id": "b2093722",
   "metadata": {},
   "outputs": [
    {
     "name": "stdout",
     "output_type": "stream",
     "text": [
      "Model: \"sequential\"\n",
      "_________________________________________________________________\n",
      " Layer (type)                Output Shape              Param #   \n",
      "=================================================================\n",
      " embedding (Embedding)       (None, 595, 200)          20318600  \n",
      "                                                                 \n",
      " dropout (Dropout)           (None, 595, 200)          0         \n",
      "                                                                 \n",
      " lstm (LSTM)                 (None, 595, 64)           67840     \n",
      "                                                                 \n",
      " flatten (Flatten)           (None, 38080)             0         \n",
      "                                                                 \n",
      " dense (Dense)               (None, 1)                 38081     \n",
      "                                                                 \n",
      "=================================================================\n",
      "Total params: 20,424,521\n",
      "Trainable params: 20,424,521\n",
      "Non-trainable params: 0\n",
      "_________________________________________________________________\n"
     ]
    }
   ],
   "source": [
    "embedding_dim = 200\n",
    "\n",
    "model = Sequential()\n",
    "model.add(Embedding(vocab_size, embedding_dim, input_length=max_len))\n",
    "model.add(Dropout(0.2))\n",
    "model.add(LSTM(64, return_sequences=True))\n",
    "model.add(Flatten())\n",
    "model.add(Dense(1, activation='sigmoid'))\n",
    "\n",
    "model.compile(loss='binary_crossentropy', optimizer='adam', metrics=['accuracy'])\n",
    "model.summary()"
   ]
  },
  {
   "cell_type": "code",
   "execution_count": 18,
   "id": "dfe37915",
   "metadata": {},
   "outputs": [],
   "source": [
    "batch_size = 4\n",
    "num_epochs = 2"
   ]
  },
  {
   "cell_type": "code",
   "execution_count": 19,
   "id": "fefba4e2",
   "metadata": {},
   "outputs": [
    {
     "name": "stdout",
     "output_type": "stream",
     "text": [
      "Epoch 1/2\n",
      "8000/8000 [==============================] - 434s 53ms/step - loss: 0.3313 - accuracy: 0.8584 - val_loss: 0.2695 - val_accuracy: 0.8925\n",
      "Epoch 2/2\n",
      "8000/8000 [==============================] - 423s 53ms/step - loss: 0.1033 - accuracy: 0.9632 - val_loss: 0.3647 - val_accuracy: 0.8824\n"
     ]
    }
   ],
   "source": [
    "history = model.fit(train_padded, y_train, epochs=num_epochs, batch_size=batch_size, validation_data=(val_padded, y_val))"
   ]
  },
  {
   "cell_type": "code",
   "execution_count": 20,
   "id": "b2121ad9",
   "metadata": {},
   "outputs": [
    {
     "name": "stdout",
     "output_type": "stream",
     "text": [
      "313/313 [==============================] - 5s 13ms/step - loss: 0.3509 - accuracy: 0.8835\n"
     ]
    },
    {
     "data": {
      "text/plain": [
       "[0.3509092628955841, 0.8834999799728394]"
      ]
     },
     "execution_count": 20,
     "metadata": {},
     "output_type": "execute_result"
    }
   ],
   "source": [
    "model.evaluate(test_padded, y_test)"
   ]
  },
  {
   "cell_type": "code",
   "execution_count": 29,
   "id": "e050a25f",
   "metadata": {},
   "outputs": [
    {
     "name": "stdout",
     "output_type": "stream",
     "text": [
      "Model: \"sequential_3\"\n",
      "_________________________________________________________________\n",
      " Layer (type)                Output Shape              Param #   \n",
      "=================================================================\n",
      " embedding_3 (Embedding)     (None, 595, 300)          30477900  \n",
      "                                                                 \n",
      " dropout_3 (Dropout)         (None, 595, 300)          0         \n",
      "                                                                 \n",
      " lstm_3 (LSTM)               (None, 595, 64)           93440     \n",
      "                                                                 \n",
      " flatten_3 (Flatten)         (None, 38080)             0         \n",
      "                                                                 \n",
      " dense_3 (Dense)             (None, 1)                 38081     \n",
      "                                                                 \n",
      "=================================================================\n",
      "Total params: 30,609,421\n",
      "Trainable params: 30,609,421\n",
      "Non-trainable params: 0\n",
      "_________________________________________________________________\n"
     ]
    }
   ],
   "source": [
    "embedding_dim = 300\n",
    "\n",
    "model = Sequential()\n",
    "model.add(Embedding(vocab_size, embedding_dim, input_length=max_len))\n",
    "model.add(Dropout(0.2))\n",
    "model.add(LSTM(64, return_sequences=True))\n",
    "model.add(Flatten())\n",
    "model.add(Dense(1, activation='sigmoid'))\n",
    "\n",
    "model.compile(loss='binary_crossentropy', optimizer='adam', metrics=['accuracy'])\n",
    "model.summary()"
   ]
  },
  {
   "cell_type": "code",
   "execution_count": 30,
   "id": "9a4b3e61",
   "metadata": {},
   "outputs": [
    {
     "name": "stdout",
     "output_type": "stream",
     "text": [
      "Epoch 1/2\n",
      "8000/8000 [==============================] - 576s 71ms/step - loss: 0.3258 - accuracy: 0.8611 - val_loss: 0.2789 - val_accuracy: 0.8919\n",
      "Epoch 2/2\n",
      "8000/8000 [==============================] - 564s 70ms/step - loss: 0.0950 - accuracy: 0.9658 - val_loss: 0.3648 - val_accuracy: 0.8824\n"
     ]
    }
   ],
   "source": [
    "history = model.fit(train_padded, y_train, epochs=num_epochs, batch_size=batch_size, validation_data=(val_padded, y_val))"
   ]
  },
  {
   "cell_type": "code",
   "execution_count": 31,
   "id": "f57d4ebd",
   "metadata": {},
   "outputs": [
    {
     "name": "stdout",
     "output_type": "stream",
     "text": [
      "313/313 [==============================] - 9s 13ms/step - loss: 0.3499 - accuracy: 0.8852\n"
     ]
    },
    {
     "data": {
      "text/plain": [
       "[0.3498815596103668, 0.885200023651123]"
      ]
     },
     "execution_count": 31,
     "metadata": {},
     "output_type": "execute_result"
    }
   ],
   "source": [
    "model.evaluate(test_padded, y_test)"
   ]
  },
  {
   "cell_type": "code",
   "execution_count": 21,
   "id": "ab795dd3",
   "metadata": {},
   "outputs": [
    {
     "name": "stdout",
     "output_type": "stream",
     "text": [
      "Model: \"sequential_1\"\n",
      "_________________________________________________________________\n",
      " Layer (type)                Output Shape              Param #   \n",
      "=================================================================\n",
      " embedding_1 (Embedding)     (None, 595, 400)          40637200  \n",
      "                                                                 \n",
      " dropout_1 (Dropout)         (None, 595, 400)          0         \n",
      "                                                                 \n",
      " lstm_1 (LSTM)               (None, 595, 64)           119040    \n",
      "                                                                 \n",
      " flatten_1 (Flatten)         (None, 38080)             0         \n",
      "                                                                 \n",
      " dense_1 (Dense)             (None, 1)                 38081     \n",
      "                                                                 \n",
      "=================================================================\n",
      "Total params: 40,794,321\n",
      "Trainable params: 40,794,321\n",
      "Non-trainable params: 0\n",
      "_________________________________________________________________\n"
     ]
    }
   ],
   "source": [
    "embedding_dim = 400\n",
    "\n",
    "model = Sequential()\n",
    "model.add(Embedding(vocab_size, embedding_dim, input_length=max_len))\n",
    "model.add(Dropout(0.2))\n",
    "model.add(LSTM(64, return_sequences=True))\n",
    "model.add(Flatten())\n",
    "model.add(Dense(1, activation='sigmoid'))\n",
    "\n",
    "model.compile(loss='binary_crossentropy', optimizer='adam', metrics=['accuracy'])\n",
    "model.summary()"
   ]
  },
  {
   "cell_type": "code",
   "execution_count": 22,
   "id": "2ac75030",
   "metadata": {},
   "outputs": [],
   "source": [
    "batch_size = 4\n",
    "num_epochs = 2"
   ]
  },
  {
   "cell_type": "code",
   "execution_count": 23,
   "id": "27a0f358",
   "metadata": {},
   "outputs": [
    {
     "name": "stdout",
     "output_type": "stream",
     "text": [
      "Epoch 1/2\n",
      "8000/8000 [==============================] - 716s 89ms/step - loss: 0.3299 - accuracy: 0.8616 - val_loss: 0.2661 - val_accuracy: 0.8956\n",
      "Epoch 2/2\n",
      "8000/8000 [==============================] - 699s 87ms/step - loss: 0.0903 - accuracy: 0.9678 - val_loss: 0.3788 - val_accuracy: 0.8737\n"
     ]
    }
   ],
   "source": [
    "history = model.fit(train_padded, y_train, epochs=num_epochs, batch_size=batch_size, validation_data=(val_padded, y_val))"
   ]
  },
  {
   "cell_type": "code",
   "execution_count": 24,
   "id": "f20d9eab",
   "metadata": {},
   "outputs": [
    {
     "name": "stdout",
     "output_type": "stream",
     "text": [
      "313/313 [==============================] - 6s 17ms/step - loss: 0.3586 - accuracy: 0.8790\n"
     ]
    },
    {
     "data": {
      "text/plain": [
       "[0.3585589826107025, 0.8790000081062317]"
      ]
     },
     "execution_count": 24,
     "metadata": {},
     "output_type": "execute_result"
    }
   ],
   "source": [
    "model.evaluate(test_padded, y_test)"
   ]
  },
  {
   "cell_type": "code",
   "execution_count": 16,
   "id": "cafb0535",
   "metadata": {},
   "outputs": [
    {
     "name": "stdout",
     "output_type": "stream",
     "text": [
      "Model: \"sequential\"\n",
      "_________________________________________________________________\n",
      " Layer (type)                Output Shape              Param #   \n",
      "=================================================================\n",
      " embedding (Embedding)       (None, 595, 500)          50796500  \n",
      "                                                                 \n",
      " dropout (Dropout)           (None, 595, 500)          0         \n",
      "                                                                 \n",
      " lstm (LSTM)                 (None, 595, 64)           144640    \n",
      "                                                                 \n",
      " flatten (Flatten)           (None, 38080)             0         \n",
      "                                                                 \n",
      " dense (Dense)               (None, 1)                 38081     \n",
      "                                                                 \n",
      "=================================================================\n",
      "Total params: 50,979,221\n",
      "Trainable params: 50,979,221\n",
      "Non-trainable params: 0\n",
      "_________________________________________________________________\n"
     ]
    }
   ],
   "source": [
    "embedding_dim = 500\n",
    "\n",
    "model = Sequential()\n",
    "model.add(Embedding(vocab_size, embedding_dim, input_length=max_len))\n",
    "model.add(Dropout(0.2))\n",
    "model.add(LSTM(64, return_sequences=True))\n",
    "model.add(Flatten())\n",
    "model.add(Dense(1, activation='sigmoid'))\n",
    "\n",
    "model.compile(loss='binary_crossentropy', optimizer='adam', metrics=['accuracy'])\n",
    "model.summary()"
   ]
  },
  {
   "cell_type": "code",
   "execution_count": 17,
   "id": "69a7f8bb",
   "metadata": {},
   "outputs": [],
   "source": [
    "batch_size = 2\n",
    "num_epochs = 1"
   ]
  },
  {
   "cell_type": "code",
   "execution_count": 18,
   "id": "47cdacc2",
   "metadata": {},
   "outputs": [
    {
     "name": "stdout",
     "output_type": "stream",
     "text": [
      "16000/16000 [==============================] - 1658s 103ms/step - loss: 0.3409 - accuracy: 0.8579 - val_loss: 0.2678 - val_accuracy: 0.8954\n"
     ]
    }
   ],
   "source": [
    "history = model.fit(train_padded, y_train, epochs=num_epochs, batch_size=batch_size, validation_data=(val_padded, y_val))"
   ]
  },
  {
   "cell_type": "markdown",
   "id": "2bcce5bb",
   "metadata": {},
   "source": [
    "### Changing LSTM units"
   ]
  },
  {
   "cell_type": "code",
   "execution_count": 25,
   "id": "8587968e",
   "metadata": {},
   "outputs": [
    {
     "name": "stdout",
     "output_type": "stream",
     "text": [
      "Model: \"sequential_2\"\n",
      "_________________________________________________________________\n",
      " Layer (type)                Output Shape              Param #   \n",
      "=================================================================\n",
      " embedding_2 (Embedding)     (None, 595, 200)          20318600  \n",
      "                                                                 \n",
      " dropout_2 (Dropout)         (None, 595, 200)          0         \n",
      "                                                                 \n",
      " lstm_2 (LSTM)               (None, 595, 128)          168448    \n",
      "                                                                 \n",
      " flatten_2 (Flatten)         (None, 76160)             0         \n",
      "                                                                 \n",
      " dense_2 (Dense)             (None, 1)                 76161     \n",
      "                                                                 \n",
      "=================================================================\n",
      "Total params: 20,563,209\n",
      "Trainable params: 20,563,209\n",
      "Non-trainable params: 0\n",
      "_________________________________________________________________\n"
     ]
    }
   ],
   "source": [
    "embedding_dim = 200\n",
    "\n",
    "model = Sequential()\n",
    "model.add(Embedding(vocab_size, embedding_dim, input_length=max_len))\n",
    "model.add(Dropout(0.2))\n",
    "model.add(LSTM(128, return_sequences=True))\n",
    "model.add(Flatten())\n",
    "model.add(Dense(1, activation='sigmoid'))\n",
    "\n",
    "model.compile(loss='binary_crossentropy', optimizer='adam', metrics=['accuracy'])\n",
    "model.summary()"
   ]
  },
  {
   "cell_type": "code",
   "execution_count": 26,
   "id": "0fc16c0d",
   "metadata": {},
   "outputs": [],
   "source": [
    "batch_size = 4\n",
    "num_epochs = 2"
   ]
  },
  {
   "cell_type": "code",
   "execution_count": 27,
   "id": "69690650",
   "metadata": {},
   "outputs": [
    {
     "name": "stdout",
     "output_type": "stream",
     "text": [
      "Epoch 1/2\n",
      "8000/8000 [==============================] - 452s 55ms/step - loss: 0.3336 - accuracy: 0.8560 - val_loss: 0.2726 - val_accuracy: 0.8900\n",
      "Epoch 2/2\n",
      "8000/8000 [==============================] - 446s 56ms/step - loss: 0.1057 - accuracy: 0.9615 - val_loss: 0.3728 - val_accuracy: 0.8842\n"
     ]
    }
   ],
   "source": [
    "history = model.fit(train_padded, y_train, epochs=num_epochs, batch_size=batch_size, validation_data=(val_padded, y_val))"
   ]
  },
  {
   "cell_type": "code",
   "execution_count": 28,
   "id": "1cefedad",
   "metadata": {},
   "outputs": [
    {
     "name": "stdout",
     "output_type": "stream",
     "text": [
      "313/313 [==============================] - 9s 17ms/step - loss: 0.3571 - accuracy: 0.8809\n"
     ]
    },
    {
     "data": {
      "text/plain": [
       "[0.35707157850265503, 0.8809000253677368]"
      ]
     },
     "execution_count": 28,
     "metadata": {},
     "output_type": "execute_result"
    }
   ],
   "source": [
    "model.evaluate(test_padded, y_test)"
   ]
  },
  {
   "cell_type": "code",
   "execution_count": 12,
   "id": "e3e97049",
   "metadata": {},
   "outputs": [
    {
     "name": "stdout",
     "output_type": "stream",
     "text": [
      "Model: \"sequential\"\n",
      "_________________________________________________________________\n",
      " Layer (type)                Output Shape              Param #   \n",
      "=================================================================\n",
      " embedding (Embedding)       (None, 595, 400)          40637200  \n",
      "                                                                 \n",
      " dropout (Dropout)           (None, 595, 400)          0         \n",
      "                                                                 \n",
      " lstm (LSTM)                 (None, 595, 128)          270848    \n",
      "                                                                 \n",
      " flatten (Flatten)           (None, 76160)             0         \n",
      "                                                                 \n",
      " dense (Dense)               (None, 1)                 76161     \n",
      "                                                                 \n",
      "=================================================================\n",
      "Total params: 40,984,209\n",
      "Trainable params: 40,984,209\n",
      "Non-trainable params: 0\n",
      "_________________________________________________________________\n"
     ]
    }
   ],
   "source": [
    "embedding_dim = 400\n",
    "\n",
    "model = Sequential()\n",
    "model.add(Embedding(vocab_size, embedding_dim, input_length=max_len))\n",
    "model.add(Dropout(0.2))\n",
    "model.add(LSTM(128, return_sequences=True))\n",
    "model.add(Flatten())\n",
    "model.add(Dense(1, activation='sigmoid'))\n",
    "\n",
    "model.compile(loss='binary_crossentropy', optimizer='adam', metrics=['accuracy'])\n",
    "model.summary()"
   ]
  },
  {
   "cell_type": "code",
   "execution_count": 14,
   "id": "47fb72e7",
   "metadata": {},
   "outputs": [],
   "source": [
    "batch_size = 4\n",
    "num_epochs = 1"
   ]
  },
  {
   "cell_type": "code",
   "execution_count": 15,
   "id": "d8f04bdf",
   "metadata": {},
   "outputs": [
    {
     "name": "stdout",
     "output_type": "stream",
     "text": [
      "8000/8000 [==============================] - 752s 93ms/step - loss: 0.3332 - accuracy: 0.8589 - val_loss: 0.2754 - val_accuracy: 0.8931\n"
     ]
    }
   ],
   "source": [
    "history = model.fit(train_padded, y_train, epochs=num_epochs, batch_size=batch_size, validation_data=(val_padded, y_val))"
   ]
  },
  {
   "cell_type": "markdown",
   "id": "47dce865",
   "metadata": {},
   "source": [
    "### Changing dropout"
   ]
  },
  {
   "cell_type": "code",
   "execution_count": 16,
   "id": "0dee21b9",
   "metadata": {},
   "outputs": [
    {
     "name": "stdout",
     "output_type": "stream",
     "text": [
      "Model: \"sequential_1\"\n",
      "_________________________________________________________________\n",
      " Layer (type)                Output Shape              Param #   \n",
      "=================================================================\n",
      " embedding_1 (Embedding)     (None, 595, 400)          40637200  \n",
      "                                                                 \n",
      " dropout_1 (Dropout)         (None, 595, 400)          0         \n",
      "                                                                 \n",
      " lstm_1 (LSTM)               (None, 595, 128)          270848    \n",
      "                                                                 \n",
      " flatten_1 (Flatten)         (None, 76160)             0         \n",
      "                                                                 \n",
      " dense_1 (Dense)             (None, 1)                 76161     \n",
      "                                                                 \n",
      "=================================================================\n",
      "Total params: 40,984,209\n",
      "Trainable params: 40,984,209\n",
      "Non-trainable params: 0\n",
      "_________________________________________________________________\n"
     ]
    }
   ],
   "source": [
    "embedding_dim = 400\n",
    "\n",
    "model = Sequential()\n",
    "model.add(Embedding(vocab_size, embedding_dim, input_length=max_len))\n",
    "model.add(Dropout(0.3))\n",
    "model.add(LSTM(128, return_sequences=True))\n",
    "model.add(Flatten())\n",
    "model.add(Dense(1, activation='sigmoid'))\n",
    "\n",
    "model.compile(loss='binary_crossentropy', optimizer='adam', metrics=['accuracy'])\n",
    "model.summary()"
   ]
  },
  {
   "cell_type": "code",
   "execution_count": 17,
   "id": "0546cc4f",
   "metadata": {},
   "outputs": [
    {
     "name": "stdout",
     "output_type": "stream",
     "text": [
      "8000/8000 [==============================] - 745s 93ms/step - loss: 0.3373 - accuracy: 0.8565 - val_loss: 0.2796 - val_accuracy: 0.8925\n"
     ]
    }
   ],
   "source": [
    "history = model.fit(train_padded, y_train, epochs=num_epochs, batch_size=batch_size, validation_data=(val_padded, y_val))"
   ]
  },
  {
   "cell_type": "code",
   "execution_count": 18,
   "id": "a43b9535",
   "metadata": {},
   "outputs": [
    {
     "name": "stdout",
     "output_type": "stream",
     "text": [
      "313/313 [==============================] - 12s 21ms/step - loss: 0.2722 - accuracy: 0.8917\n"
     ]
    },
    {
     "data": {
      "text/plain": [
       "[0.2722209095954895, 0.891700029373169]"
      ]
     },
     "execution_count": 18,
     "metadata": {},
     "output_type": "execute_result"
    }
   ],
   "source": [
    "model.evaluate(test_padded, y_test)"
   ]
  },
  {
   "cell_type": "code",
   "execution_count": 19,
   "id": "d9453826",
   "metadata": {},
   "outputs": [],
   "source": [
    "batch_size = 4\n",
    "num_epochs = 1"
   ]
  },
  {
   "cell_type": "code",
   "execution_count": 20,
   "id": "a6683fe9",
   "metadata": {},
   "outputs": [
    {
     "name": "stdout",
     "output_type": "stream",
     "text": [
      "Model: \"sequential_2\"\n",
      "_________________________________________________________________\n",
      " Layer (type)                Output Shape              Param #   \n",
      "=================================================================\n",
      " embedding_2 (Embedding)     (None, 595, 400)          40637200  \n",
      "                                                                 \n",
      " dropout_2 (Dropout)         (None, 595, 400)          0         \n",
      "                                                                 \n",
      " lstm_2 (LSTM)               (None, 595, 64)           119040    \n",
      "                                                                 \n",
      " flatten_2 (Flatten)         (None, 38080)             0         \n",
      "                                                                 \n",
      " dense_2 (Dense)             (None, 1)                 38081     \n",
      "                                                                 \n",
      "=================================================================\n",
      "Total params: 40,794,321\n",
      "Trainable params: 40,794,321\n",
      "Non-trainable params: 0\n",
      "_________________________________________________________________\n"
     ]
    }
   ],
   "source": [
    "embedding_dim = 400\n",
    "\n",
    "model = Sequential()\n",
    "model.add(Embedding(vocab_size, embedding_dim, input_length=max_len))\n",
    "model.add(Dropout(0.3))\n",
    "model.add(LSTM(64, return_sequences=True))\n",
    "model.add(Flatten())\n",
    "model.add(Dense(1, activation='sigmoid'))\n",
    "\n",
    "model.compile(loss='binary_crossentropy', optimizer='adam', metrics=['accuracy'])\n",
    "model.summary()"
   ]
  },
  {
   "cell_type": "code",
   "execution_count": 21,
   "id": "0bd41b4e",
   "metadata": {},
   "outputs": [
    {
     "name": "stdout",
     "output_type": "stream",
     "text": [
      "8000/8000 [==============================] - 718s 89ms/step - loss: 0.3247 - accuracy: 0.8635 - val_loss: 0.2882 - val_accuracy: 0.8909\n"
     ]
    }
   ],
   "source": [
    "history = model.fit(train_padded, y_train, epochs=num_epochs, batch_size=batch_size, validation_data=(val_padded, y_val))"
   ]
  },
  {
   "cell_type": "code",
   "execution_count": 22,
   "id": "eb76e35d",
   "metadata": {},
   "outputs": [
    {
     "name": "stdout",
     "output_type": "stream",
     "text": [
      "313/313 [==============================] - 10s 17ms/step - loss: 0.2828 - accuracy: 0.8829\n"
     ]
    },
    {
     "data": {
      "text/plain": [
       "[0.2827790677547455, 0.8828999996185303]"
      ]
     },
     "execution_count": 22,
     "metadata": {},
     "output_type": "execute_result"
    }
   ],
   "source": [
    "model.evaluate(test_padded, y_test)"
   ]
  },
  {
   "cell_type": "markdown",
   "id": "39014c9a",
   "metadata": {},
   "source": [
    "### With text preprocessing"
   ]
  },
  {
   "cell_type": "code",
   "execution_count": 8,
   "id": "03bc1b82",
   "metadata": {},
   "outputs": [],
   "source": [
    "def remove_html(text):\n",
    "    soup = BeautifulSoup(text, \"html.parser\")\n",
    "    return soup.get_text()"
   ]
  },
  {
   "cell_type": "code",
   "execution_count": 5,
   "id": "b36721b1",
   "metadata": {},
   "outputs": [],
   "source": [
    "stop = set(stopwords.words('english'))\n",
    "punctuation = list(punctuation)\n",
    "stop.update(punctuation)"
   ]
  },
  {
   "cell_type": "code",
   "execution_count": 6,
   "id": "7b8dcc04",
   "metadata": {},
   "outputs": [],
   "source": [
    "def remove_punctuation_and_stopwords(text):\n",
    "    output = []\n",
    "    for word in word_tokenize(text.lower()):\n",
    "        if word not in stop and word.isalpha():\n",
    "            output.append(word)\n",
    "    return \" \".join(output)"
   ]
  },
  {
   "cell_type": "code",
   "execution_count": 7,
   "id": "720db0fc",
   "metadata": {},
   "outputs": [],
   "source": [
    "def preprocess_text(text):\n",
    "    text = remove_html(text)\n",
    "    text = remove_punctuation_and_stopwords(text)\n",
    "    return text"
   ]
  },
  {
   "cell_type": "code",
   "execution_count": 8,
   "id": "b39d7d27",
   "metadata": {},
   "outputs": [],
   "source": [
    "df = pd.read_csv('../IMDB_dataset/IMDB dataset.csv')"
   ]
  },
  {
   "cell_type": "code",
   "execution_count": 9,
   "id": "08ada2a9",
   "metadata": {},
   "outputs": [
    {
     "name": "stderr",
     "output_type": "stream",
     "text": [
      "C:\\Users\\wojte\\AppData\\Local\\Temp\\ipykernel_1152\\2518913060.py:2: MarkupResemblesLocatorWarning: The input looks more like a filename than markup. You may want to open this file and pass the filehandle into Beautiful Soup.\n",
      "  soup = BeautifulSoup(text, \"html.parser\")\n"
     ]
    }
   ],
   "source": [
    "df['review'] = df['review'].apply(preprocess_text)"
   ]
  },
  {
   "cell_type": "code",
   "execution_count": 10,
   "id": "b1290ed6",
   "metadata": {},
   "outputs": [],
   "source": [
    "df.sentiment.replace(\"positive\", 1, inplace = True)\n",
    "df.sentiment.replace(\"negative\", 0, inplace = True)"
   ]
  },
  {
   "cell_type": "code",
   "execution_count": 11,
   "id": "0baa0297",
   "metadata": {},
   "outputs": [],
   "source": [
    "train, test = train_test_split(df, test_size=0.2, random_state=42)\n",
    "\n",
    "x_train, y_train = train['review'], train['sentiment']\n",
    "x_test, y_test = test['review'], test['sentiment']\n",
    "x_train, x_val, y_train, y_val = train_test_split(x_train, y_train,\n",
    "                                             test_size=0.2, random_state=10)"
   ]
  },
  {
   "cell_type": "code",
   "execution_count": 12,
   "id": "7299c565",
   "metadata": {},
   "outputs": [],
   "source": [
    "tokenizer = Tokenizer(oov_token=\"OOV\")"
   ]
  },
  {
   "cell_type": "code",
   "execution_count": 13,
   "id": "76de6a76",
   "metadata": {},
   "outputs": [],
   "source": [
    "tokenizer.fit_on_texts(x_train)\n",
    "word_index = tokenizer.word_index"
   ]
  },
  {
   "cell_type": "code",
   "execution_count": 14,
   "id": "0cda3c6e",
   "metadata": {},
   "outputs": [],
   "source": [
    "sequences = tokenizer.texts_to_sequences(x_train)"
   ]
  },
  {
   "cell_type": "code",
   "execution_count": 15,
   "id": "f94bb346",
   "metadata": {},
   "outputs": [],
   "source": [
    "max_len = 595\n",
    "trunc_type = 'post'\n",
    "oov_tok = 'OOV'\n",
    "padding_type = 'post'\n",
    "vocab_size = len(word_index) + 1"
   ]
  },
  {
   "cell_type": "code",
   "execution_count": 16,
   "id": "f1c5667d",
   "metadata": {},
   "outputs": [],
   "source": [
    "train_padded = pad_sequences(sequences, maxlen=max_len, padding=padding_type, truncating=trunc_type)\n",
    "\n",
    "test_sentences = tokenizer.texts_to_sequences(x_test)\n",
    "test_padded = pad_sequences(test_sentences, maxlen=max_len, padding=padding_type, truncating=trunc_type)\n",
    "\n",
    "val_sentences = tokenizer.texts_to_sequences(x_val)\n",
    "val_padded = pad_sequences(val_sentences, maxlen=max_len, padding=padding_type, truncating=trunc_type)"
   ]
  },
  {
   "cell_type": "code",
   "execution_count": 17,
   "id": "32379a08",
   "metadata": {},
   "outputs": [
    {
     "name": "stdout",
     "output_type": "stream",
     "text": [
      "Model: \"sequential\"\n",
      "_________________________________________________________________\n",
      " Layer (type)                Output Shape              Param #   \n",
      "=================================================================\n",
      " embedding (Embedding)       (None, 595, 400)          32826800  \n",
      "                                                                 \n",
      " dropout (Dropout)           (None, 595, 400)          0         \n",
      "                                                                 \n",
      " lstm (LSTM)                 (None, 595, 64)           119040    \n",
      "                                                                 \n",
      " flatten (Flatten)           (None, 38080)             0         \n",
      "                                                                 \n",
      " dense (Dense)               (None, 1)                 38081     \n",
      "                                                                 \n",
      "=================================================================\n",
      "Total params: 32,983,921\n",
      "Trainable params: 32,983,921\n",
      "Non-trainable params: 0\n",
      "_________________________________________________________________\n"
     ]
    }
   ],
   "source": [
    "embedding_dim = 400\n",
    "\n",
    "model = Sequential()\n",
    "model.add(Embedding(vocab_size, embedding_dim, input_length=max_len))\n",
    "model.add(Dropout(0.2))\n",
    "model.add(LSTM(64, return_sequences=True))\n",
    "model.add(Flatten())\n",
    "model.add(Dense(1, activation='sigmoid'))\n",
    "\n",
    "model.compile(loss='binary_crossentropy', optimizer='adam', metrics=['accuracy'])\n",
    "model.summary()"
   ]
  },
  {
   "cell_type": "code",
   "execution_count": 18,
   "id": "a374a65d",
   "metadata": {},
   "outputs": [],
   "source": [
    "batch_size = 4\n",
    "num_epochs = 1"
   ]
  },
  {
   "cell_type": "code",
   "execution_count": 19,
   "id": "34060a44",
   "metadata": {},
   "outputs": [
    {
     "name": "stdout",
     "output_type": "stream",
     "text": [
      "8000/8000 [==============================] - 613s 76ms/step - loss: 0.3327 - accuracy: 0.8610 - val_loss: 0.2967 - val_accuracy: 0.8866\n"
     ]
    }
   ],
   "source": [
    "history = model.fit(train_padded, y_train, epochs=num_epochs, batch_size=batch_size, validation_data=(val_padded, y_val))"
   ]
  },
  {
   "cell_type": "markdown",
   "id": "8e1f3248",
   "metadata": {},
   "source": [
    "### With preprocess and words stem"
   ]
  },
  {
   "cell_type": "code",
   "execution_count": 6,
   "id": "1c4c7782",
   "metadata": {},
   "outputs": [],
   "source": [
    "stop = set(stopwords.words('english'))\n",
    "punctuation = list(punctuation)\n",
    "stop.update(punctuation)"
   ]
  },
  {
   "cell_type": "code",
   "execution_count": 21,
   "id": "0ca491d5",
   "metadata": {},
   "outputs": [],
   "source": [
    "def remove_html(text):\n",
    "    soup = BeautifulSoup(text, \"html.parser\")\n",
    "    return soup.get_text()"
   ]
  },
  {
   "cell_type": "code",
   "execution_count": 22,
   "id": "2c2ba863",
   "metadata": {},
   "outputs": [],
   "source": [
    "def preprocess_text(text):\n",
    "    text = remove_html(text)\n",
    "    stem_tokens = []\n",
    "    stemmer = PorterStemmer()\n",
    "    for word in word_tokenize(text.lower()):\n",
    "        if word not in stop and word.isalpha():\n",
    "            stem_word = stemmer.stem(word)\n",
    "            stem_tokens.append(stem_word)\n",
    "    return \" \".join(stem_tokens)"
   ]
  },
  {
   "cell_type": "code",
   "execution_count": 23,
   "id": "75a59cf5",
   "metadata": {},
   "outputs": [],
   "source": [
    "df = pd.read_csv('../IMDB_dataset/IMDB dataset.csv')"
   ]
  },
  {
   "cell_type": "code",
   "execution_count": 26,
   "id": "151a9504",
   "metadata": {},
   "outputs": [
    {
     "name": "stderr",
     "output_type": "stream",
     "text": [
      "C:\\Users\\wojte\\AppData\\Local\\Temp\\ipykernel_1152\\2518913060.py:2: MarkupResemblesLocatorWarning: The input looks more like a filename than markup. You may want to open this file and pass the filehandle into Beautiful Soup.\n",
      "  soup = BeautifulSoup(text, \"html.parser\")\n"
     ]
    }
   ],
   "source": [
    "df['review'] = df['review'].apply(preprocess_text)\n",
    "\n",
    "df.sentiment.replace(\"positive\", 1, inplace = True)\n",
    "df.sentiment.replace(\"negative\", 0, inplace = True)"
   ]
  },
  {
   "cell_type": "code",
   "execution_count": 27,
   "id": "dcf28421",
   "metadata": {},
   "outputs": [],
   "source": [
    "train, test = train_test_split(df, test_size=0.2, random_state=42)\n",
    "\n",
    "x_train, y_train = train['review'], train['sentiment']\n",
    "x_test, y_test = test['review'], test['sentiment']\n",
    "x_train, x_val, y_train, y_val = train_test_split(x_train, y_train,\n",
    "                                             test_size=0.2, random_state=10)"
   ]
  },
  {
   "cell_type": "code",
   "execution_count": 28,
   "id": "a073a7f1",
   "metadata": {},
   "outputs": [],
   "source": [
    "tokenizer = Tokenizer(oov_token=\"OOV\")"
   ]
  },
  {
   "cell_type": "code",
   "execution_count": 29,
   "id": "78076175",
   "metadata": {},
   "outputs": [],
   "source": [
    "tokenizer.fit_on_texts(x_train)\n",
    "word_index = tokenizer.word_index"
   ]
  },
  {
   "cell_type": "code",
   "execution_count": 30,
   "id": "3e369ad7",
   "metadata": {},
   "outputs": [],
   "source": [
    "sequences = tokenizer.texts_to_sequences(x_train)"
   ]
  },
  {
   "cell_type": "code",
   "execution_count": 31,
   "id": "4ac2664c",
   "metadata": {},
   "outputs": [],
   "source": [
    "max_len = 595\n",
    "trunc_type = 'post'\n",
    "oov_tok = 'OOV'\n",
    "padding_type = 'post'\n",
    "vocab_size = len(word_index) + 1"
   ]
  },
  {
   "cell_type": "code",
   "execution_count": 32,
   "id": "597f2ecf",
   "metadata": {},
   "outputs": [],
   "source": [
    "train_padded = pad_sequences(sequences, maxlen=max_len, padding=padding_type, truncating=trunc_type)\n",
    "\n",
    "test_sentences = tokenizer.texts_to_sequences(x_test)\n",
    "test_padded = pad_sequences(test_sentences, maxlen=max_len, padding=padding_type, truncating=trunc_type)\n",
    "\n",
    "val_sentences = tokenizer.texts_to_sequences(x_val)\n",
    "val_padded = pad_sequences(val_sentences, maxlen=max_len, padding=padding_type, truncating=trunc_type)"
   ]
  },
  {
   "cell_type": "code",
   "execution_count": 33,
   "id": "1ddbe40a",
   "metadata": {},
   "outputs": [
    {
     "name": "stdout",
     "output_type": "stream",
     "text": [
      "Model: \"sequential_1\"\n",
      "_________________________________________________________________\n",
      " Layer (type)                Output Shape              Param #   \n",
      "=================================================================\n",
      " embedding_1 (Embedding)     (None, 595, 400)          22738000  \n",
      "                                                                 \n",
      " dropout_1 (Dropout)         (None, 595, 400)          0         \n",
      "                                                                 \n",
      " lstm_1 (LSTM)               (None, 595, 64)           119040    \n",
      "                                                                 \n",
      " flatten_1 (Flatten)         (None, 38080)             0         \n",
      "                                                                 \n",
      " dense_1 (Dense)             (None, 1)                 38081     \n",
      "                                                                 \n",
      "=================================================================\n",
      "Total params: 22,895,121\n",
      "Trainable params: 22,895,121\n",
      "Non-trainable params: 0\n",
      "_________________________________________________________________\n"
     ]
    }
   ],
   "source": [
    "embedding_dim = 400\n",
    "\n",
    "model = Sequential()\n",
    "model.add(Embedding(vocab_size, embedding_dim, input_length=max_len))\n",
    "model.add(Dropout(0.2))\n",
    "model.add(LSTM(64, return_sequences=True))\n",
    "model.add(Flatten())\n",
    "model.add(Dense(1, activation='sigmoid'))\n",
    "\n",
    "model.compile(loss='binary_crossentropy', optimizer='adam', metrics=['accuracy'])\n",
    "model.summary()"
   ]
  },
  {
   "cell_type": "code",
   "execution_count": 34,
   "id": "036d9f11",
   "metadata": {},
   "outputs": [
    {
     "name": "stdout",
     "output_type": "stream",
     "text": [
      "8000/8000 [==============================] - 467s 58ms/step - loss: 0.3381 - accuracy: 0.8559 - val_loss: 0.2877 - val_accuracy: 0.8885\n"
     ]
    }
   ],
   "source": [
    "history = model.fit(train_padded, y_train, epochs=num_epochs, batch_size=batch_size, validation_data=(val_padded, y_val))"
   ]
  },
  {
   "cell_type": "markdown",
   "id": "d768ad80",
   "metadata": {},
   "source": [
    "### Remove punctuation and html"
   ]
  },
  {
   "cell_type": "code",
   "execution_count": 4,
   "id": "a161d7d1",
   "metadata": {},
   "outputs": [],
   "source": [
    "def preprocess_text(text):\n",
    "    text = remove_html(text)\n",
    "    output = []\n",
    "    for word in word_tokenize(text.lower()):\n",
    "        if word.isalpha():\n",
    "            output.append(word)\n",
    "    return \" \".join(output)"
   ]
  },
  {
   "cell_type": "code",
   "execution_count": 5,
   "id": "c85f64b3",
   "metadata": {},
   "outputs": [],
   "source": [
    "df = pd.read_csv('../IMDB_dataset/IMDB dataset.csv')"
   ]
  },
  {
   "cell_type": "code",
   "execution_count": 9,
   "id": "c14c1a94",
   "metadata": {},
   "outputs": [
    {
     "name": "stderr",
     "output_type": "stream",
     "text": [
      "C:\\Users\\wojte\\AppData\\Local\\Temp\\ipykernel_3404\\2518913060.py:2: MarkupResemblesLocatorWarning: The input looks more like a filename than markup. You may want to open this file and pass the filehandle into Beautiful Soup.\n",
      "  soup = BeautifulSoup(text, \"html.parser\")\n"
     ]
    }
   ],
   "source": [
    "df['review'] = df['review'].apply(preprocess_text)\n",
    "\n",
    "df.sentiment.replace(\"positive\", 1, inplace = True)\n",
    "df.sentiment.replace(\"negative\", 0, inplace = True)"
   ]
  },
  {
   "cell_type": "code",
   "execution_count": 10,
   "id": "edbb48c0",
   "metadata": {},
   "outputs": [],
   "source": [
    "train, test = train_test_split(df, test_size=0.2, random_state=42)\n",
    "\n",
    "x_train, y_train = train['review'], train['sentiment']\n",
    "x_test, y_test = test['review'], test['sentiment']\n",
    "x_train, x_val, y_train, y_val = train_test_split(x_train, y_train,\n",
    "                                             test_size=0.2, random_state=10)"
   ]
  },
  {
   "cell_type": "code",
   "execution_count": 11,
   "id": "b3511eba",
   "metadata": {},
   "outputs": [],
   "source": [
    "tokenizer = Tokenizer(oov_token=\"OOV\")"
   ]
  },
  {
   "cell_type": "code",
   "execution_count": 12,
   "id": "acf07085",
   "metadata": {},
   "outputs": [],
   "source": [
    "tokenizer.fit_on_texts(x_train)\n",
    "word_index = tokenizer.word_index"
   ]
  },
  {
   "cell_type": "code",
   "execution_count": 13,
   "id": "2cf5d099",
   "metadata": {},
   "outputs": [],
   "source": [
    "sequences = tokenizer.texts_to_sequences(x_train)"
   ]
  },
  {
   "cell_type": "code",
   "execution_count": 14,
   "id": "43c6225d",
   "metadata": {},
   "outputs": [],
   "source": [
    "max_len = 595\n",
    "trunc_type = 'post'\n",
    "oov_tok = 'OOV'\n",
    "padding_type = 'post'\n",
    "vocab_size = len(word_index) + 1"
   ]
  },
  {
   "cell_type": "code",
   "execution_count": 15,
   "id": "8e592ce8",
   "metadata": {},
   "outputs": [],
   "source": [
    "train_padded = pad_sequences(sequences, maxlen=max_len, padding=padding_type, truncating=trunc_type)\n",
    "\n",
    "test_sentences = tokenizer.texts_to_sequences(x_test)\n",
    "test_padded = pad_sequences(test_sentences, maxlen=max_len, padding=padding_type, truncating=trunc_type)\n",
    "\n",
    "val_sentences = tokenizer.texts_to_sequences(x_val)\n",
    "val_padded = pad_sequences(val_sentences, maxlen=max_len, padding=padding_type, truncating=trunc_type)"
   ]
  },
  {
   "cell_type": "code",
   "execution_count": null,
   "id": "0ce374ae",
   "metadata": {},
   "outputs": [],
   "source": []
  },
  {
   "cell_type": "code",
   "execution_count": 16,
   "id": "12b5130c",
   "metadata": {},
   "outputs": [
    {
     "name": "stdout",
     "output_type": "stream",
     "text": [
      "Model: \"sequential\"\n",
      "_________________________________________________________________\n",
      " Layer (type)                Output Shape              Param #   \n",
      "=================================================================\n",
      " embedding (Embedding)       (None, 595, 400)          32887200  \n",
      "                                                                 \n",
      " dropout (Dropout)           (None, 595, 400)          0         \n",
      "                                                                 \n",
      " lstm (LSTM)                 (None, 595, 64)           119040    \n",
      "                                                                 \n",
      " flatten (Flatten)           (None, 38080)             0         \n",
      "                                                                 \n",
      " dense (Dense)               (None, 1)                 38081     \n",
      "                                                                 \n",
      "=================================================================\n",
      "Total params: 33,044,321\n",
      "Trainable params: 33,044,321\n",
      "Non-trainable params: 0\n",
      "_________________________________________________________________\n"
     ]
    }
   ],
   "source": [
    "embedding_dim = 400\n",
    "\n",
    "model = Sequential()\n",
    "model.add(Embedding(vocab_size, embedding_dim, input_length=max_len))\n",
    "model.add(Dropout(0.2))\n",
    "model.add(LSTM(64, return_sequences=True))\n",
    "model.add(Flatten())\n",
    "model.add(Dense(1, activation='sigmoid'))\n",
    "\n",
    "model.compile(loss='binary_crossentropy', optimizer='adam', metrics=['accuracy'])\n",
    "model.summary()"
   ]
  },
  {
   "cell_type": "code",
   "execution_count": 18,
   "id": "14613bd1",
   "metadata": {},
   "outputs": [],
   "source": [
    "batch_size = 4\n",
    "num_epochs = 1"
   ]
  },
  {
   "cell_type": "code",
   "execution_count": 19,
   "id": "42e26552",
   "metadata": {},
   "outputs": [
    {
     "name": "stdout",
     "output_type": "stream",
     "text": [
      "8000/8000 [==============================] - 632s 78ms/step - loss: 0.3367 - accuracy: 0.8592 - val_loss: 0.2929 - val_accuracy: 0.8869\n"
     ]
    }
   ],
   "source": [
    "history = model.fit(train_padded, y_train, epochs=num_epochs, batch_size=batch_size, validation_data=(val_padded, y_val))"
   ]
  },
  {
   "cell_type": "code",
   "execution_count": null,
   "id": "7c9d63a6",
   "metadata": {},
   "outputs": [],
   "source": []
  }
 ],
 "metadata": {
  "kernelspec": {
   "display_name": "Python 3 (ipykernel)",
   "language": "python",
   "name": "python3"
  },
  "language_info": {
   "codemirror_mode": {
    "name": "ipython",
    "version": 3
   },
   "file_extension": ".py",
   "mimetype": "text/x-python",
   "name": "python",
   "nbconvert_exporter": "python",
   "pygments_lexer": "ipython3",
   "version": "3.9.16"
  }
 },
 "nbformat": 4,
 "nbformat_minor": 5
}
